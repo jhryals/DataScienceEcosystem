{
  "nbformat": 4,
  "nbformat_minor": 0,
  "metadata": {
    "colab": {
      "provenance": [],
      "authorship_tag": "ABX9TyOAixfwh6nmkYIhYY6BpvmF",
      "include_colab_link": true
    },
    "kernelspec": {
      "name": "python3",
      "display_name": "Python 3"
    },
    "language_info": {
      "name": "python"
    }
  },
  "cells": [
    {
      "cell_type": "markdown",
      "metadata": {
        "id": "view-in-github",
        "colab_type": "text"
      },
      "source": [
        "<a href=\"https://colab.research.google.com/github/jhryals/DataScienceEcosystem/blob/main/DataScienceEcosystem.ipynb\" target=\"_parent\"><img src=\"https://colab.research.google.com/assets/colab-badge.svg\" alt=\"Open In Colab\"/></a>"
      ]
    },
    {
      "cell_type": "markdown",
      "source": [
        "# Data Science Tools and Ecosystem"
      ],
      "metadata": {
        "id": "ALQOwej_xK_S"
      }
    },
    {
      "cell_type": "markdown",
      "source": [
        "In this notebook, Data Science Tools and Ecosystems are summarized."
      ],
      "metadata": {
        "id": "1b4jbIKc2veZ"
      }
    },
    {
      "cell_type": "markdown",
      "source": [
        "**Objectives:**\n",
        "\n",
        "\n",
        "*   List  popular languages for Data Science\n",
        "*   List common Data Science libraries\n",
        "*   List common open source Data Science development environment tools\n",
        "*   Provide a few arithmetic expressions using python\n",
        "\n",
        "\n",
        "\n",
        "\n",
        "\n"
      ],
      "metadata": {
        "id": "A-ZG6FkM8Cre"
      }
    },
    {
      "cell_type": "markdown",
      "source": [
        "Some of the popular languages that Data Scientists use are:\n",
        "\n",
        "1.   Python\n",
        "2.   Julia\n",
        "3.   R\n",
        "\n"
      ],
      "metadata": {
        "id": "luJ-VesP3UFW"
      }
    },
    {
      "cell_type": "markdown",
      "source": [
        "Some of the commonly used libraries used by Data Scientists include:\n",
        "\n",
        "1.   Pandas\n",
        "2.   NumPy\n",
        "3.   Matplotlib\n",
        "\n"
      ],
      "metadata": {
        "id": "R-5lyrgH3_pr"
      }
    },
    {
      "cell_type": "markdown",
      "source": [
        " |Data Science Tools|\n",
        "---------------------\n",
        "|Jupyter Notebook/Jupyter Lab|\n",
        "|RStudio|\n",
        "|Apache Zeppelin|\n"
      ],
      "metadata": {
        "id": "b0rRgfsB4--0"
      }
    },
    {
      "cell_type": "markdown",
      "source": [
        "### Below are a few examples of evaliuating arithmetic expressions in Python."
      ],
      "metadata": {
        "id": "4U_PY_Wk6dvo"
      }
    },
    {
      "cell_type": "code",
      "source": [
        "#This is a simple arithmetic expression to multiply then add integers.\n",
        "(3*4)+5"
      ],
      "metadata": {
        "colab": {
          "base_uri": "https://localhost:8080/"
        },
        "id": "beaOytjC68NV",
        "outputId": "48a89143-9d27-4a24-fb07-2e72cfc1e163"
      },
      "execution_count": 2,
      "outputs": [
        {
          "output_type": "execute_result",
          "data": {
            "text/plain": [
              "17"
            ]
          },
          "metadata": {},
          "execution_count": 2
        }
      ]
    },
    {
      "cell_type": "code",
      "source": [
        "#This will convert 200 minutes to hours by dividing by 60.\n",
        "minutes = 200\n",
        "hours = minutes/60\n",
        "print(hours)"
      ],
      "metadata": {
        "colab": {
          "base_uri": "https://localhost:8080/"
        },
        "id": "iWzthStf7c5y",
        "outputId": "ecef01c4-7529-4593-88b3-6c63c305c56f"
      },
      "execution_count": 3,
      "outputs": [
        {
          "output_type": "stream",
          "name": "stdout",
          "text": [
            "3.3333333333333335\n"
          ]
        }
      ]
    },
    {
      "cell_type": "markdown",
      "source": [
        "## Author\n",
        "Justin Howard Ryals"
      ],
      "metadata": {
        "id": "TPWjg9Yg87X2"
      }
    }
  ]
}